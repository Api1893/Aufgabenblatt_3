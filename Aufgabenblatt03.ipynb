{
 "cells": [
  {
   "cell_type": "markdown",
   "id": "10c4ba74-5d7a-4bb5-92a6-86e226ea43b7",
   "metadata": {},
   "source": [
    "# Tutorium Programmieren (Prof. Dr. Ralf Gerlich) - Aufgabenblatt 3"
   ]
  },
  {
   "cell_type": "markdown",
   "id": "0d0da3cc-bc4d-46c7-9f50-99669e60791b",
   "metadata": {},
   "source": [
    "## Aufgabe 1: Zufallszahlen raten"
   ]
  },
  {
   "cell_type": "markdown",
   "id": "c0de78f8-6930-430c-b52e-945e6ecf9d89",
   "metadata": {},
   "source": [
    "Schreiben Sie ein Programm für das folgende Zahlenratespiel:\n",
    "\n",
    "1. Das Programm wählt eine zufällige Zahl zwischen 0 und 127 (jeweils einschließlich).\n",
    "2. Die Benutzerin oder der Benutzer hat 7 Versuche, die Zahl zu erraten.\n",
    "3. Bei jedem Versuch soll das Programm angeben, ob die Zahl zu hoch oder zu niedrig ist.\n",
    "4. Wenn die Zahl erraten wurde, wird die Benutzerin bzw. der Benutzer beglückwünscht.\n",
    "\n",
    "**Hinweis**: Nutzen Sie die Funktion [`random.randint()`](https://docs.python.org/3/library/random.html#random.randint) aus der `random`-Bibliothek.\n",
    "\n",
    "**Zusatzfrage (optional)**: Woher kommen wohl die \"krummen\" Zahlen in der Aufgabenstellung? Gibt es eine Strategie, mit der Sie dieses Spiel immer gewinnen können?"
   ]
  },
  {
   "cell_type": "code",
   "execution_count": 1,
   "id": "cea43fa5-09d6-4a0e-ba16-2631698e5460",
   "metadata": {},
   "outputs": [],
   "source": [
    "# TODO: Schreiben Sie hier Ihren Code!"
   ]
  },
  {
   "cell_type": "markdown",
   "id": "cd409899-e722-4163-8b8b-a748229f8a1f",
   "metadata": {},
   "source": [
    "## Aufgabe 2: Countdown"
   ]
  },
  {
   "cell_type": "markdown",
   "id": "3eebf7f9-7a2f-4962-865b-6a1689e0ab9f",
   "metadata": {},
   "source": [
    "Schreiben sie ein Programm, das einen Countdown ausgibt:\n",
    "\n",
    "1. Das Programm fragt die Nutzerin oder den Nutzer nach einer positiven ganzen Zahl (1, 2, ...). Ist die Zahl nicht positiv, gibt das Programm eine Fehlermeldung aus. Sie müssen nicht prüfen, ob es sich um eine ganze Zahl handelt (das Programm darf dann mit einem Programmfehler abgebrochen werden).\n",
    "2. Das Programm zählt von der angegebenen Zahl im Sekundentakt bis einschließlich 1 herunter (z.B. `5`, `4`, `3`, `2`, `1`).\n",
    "3. Das Programm gibt den Text \"Lift off!\" aus.\n",
    "\n",
    "*Hinweis*: Um eine Sekunde zu warten, können Sie die Funktion [`time.sleep()`](https://docs.python.org/3/library/time.html#time.sleep) verwenden."
   ]
  },
  {
   "cell_type": "code",
   "execution_count": 3,
   "id": "7445ee82-d9a5-4005-9e97-3259c32003eb",
   "metadata": {},
   "outputs": [],
   "source": [
    "# TODO: Schreiben Sie hier Ihren Code!"
   ]
  },
  {
   "cell_type": "markdown",
   "id": "9a15a7c1-0767-4326-be52-838148055afe",
   "metadata": {},
   "source": [
    "## Aufgabe 3: Reaktionszeit messen"
   ]
  },
  {
   "cell_type": "markdown",
   "id": "0c47cc18-7d5d-4598-aec5-d4feed469a6d",
   "metadata": {},
   "source": [
    "Schreiben Sie ein Programm, das die Reaktionszeit der Nutzerin oder des Nutzers misst:\n",
    "\n",
    "1. Das Programm wartet eine zufällige Anzahl von Sekunden.\n",
    "2. Nach Ablauf der Zeit gibt es eine Meldung aus und wartet auf eine Eingabe.\n",
    "3. Nach der Eingabe gibt es die Reaktionszeit der Nutzerin oder des Nutzers in Sekunden aus.\n",
    "\n",
    "**Hinweise**\n",
    "* Verwenden Sie die Funktion `time.sleep()`, um die gewünschte Zeit zu warten.\n",
    "* Die Funktion `time.time_ns()` gibt Ihnen die [Unixzeit](https://de.wikipedia.org/wiki/Unixzeit) in Nanosekunden (1 Nanosekunde = 1/1 000 000 000 Sekunde) aus. Die Reaktionszeit können Sie bestimmen, indem Sie einmal vor der Meldung und einmal nach der Eingabe die aktuelle Unixzeit bestimmen und die Differenz aus den beiden Zeiten berechnen.\n",
    "* Nutzen Sie die Funktion [`random.uniform()`](https://docs.python.org/3/library/random.html#random.uniform), um eine zufällige Kommazahl in einem bestimmten Bereich zu erzeugen. Alle Zahlen im angegebenen Bereich werden mit gleicher Wahrscheinlichkeit vorkommen (sog. Gleichverteilung oder \"Uniform Random Distribution\", daher der Name der Funktion)."
   ]
  },
  {
   "cell_type": "code",
   "execution_count": 2,
   "id": "25202cb3-fd0d-41e6-8b7f-0c94e2d4836a",
   "metadata": {},
   "outputs": [],
   "source": [
    "# TODO: Schreiben Sie hier Ihren Code!"
   ]
  },
  {
   "cell_type": "markdown",
   "id": "2eebee1d-a529-4269-9d24-35a58c212a89",
   "metadata": {},
   "source": [
    "## Aufgabe 4: Passwortgenerator"
   ]
  },
  {
   "cell_type": "markdown",
   "id": "752aed81-6045-44bd-9732-6a984327707d",
   "metadata": {},
   "source": [
    "Schreiben Sie ein Programm, das ein zufälliges Passwort bestehend aus Groß- und Kleinbuchstaben sowie Ziffern erzeugt:\n",
    "\n",
    "1. Das Programm fragt nach der Länge des zu erzeugenden Passworts. Ist die eingegebene Länge zu kurz (weniger als 8 Zeichen) oder zu lang (mehr als 200 Zeichen) bricht das Programm mit einer Fehlermeldung ab.\n",
    "2. Das Programm erzeugt einen zufälligen String aus Groß- und Kleinbuchstaben sowie Ziffern und gibt diesen aus.\n",
    "\n",
    "**Hinweise**:\n",
    "* Die Variablen `string.ascii_letters` bzw. `string.digits` enthalten jeweils einen String aus allen Buchstaben bzw. Ziffern.\n",
    "* Verwenden Sie die Funktion [`random.choice()`](https://docs.python.org/3/library/random.html#random.choice), um jeweils ein zufälliges Zeichen aus einem String auszuwählen."
   ]
  },
  {
   "cell_type": "code",
   "execution_count": 4,
   "id": "a83af740-a574-434d-8696-400adcb4ed0e",
   "metadata": {},
   "outputs": [],
   "source": [
    "# TODO: Schreiben Sie hier Ihren Code!"
   ]
  }
 ],
 "metadata": {
  "kernelspec": {
   "display_name": "Python 3 (ipykernel)",
   "language": "python",
   "name": "python3"
  },
  "language_info": {
   "codemirror_mode": {
    "name": "ipython",
    "version": 3
   },
   "file_extension": ".py",
   "mimetype": "text/x-python",
   "name": "python",
   "nbconvert_exporter": "python",
   "pygments_lexer": "ipython3",
   "version": "3.12.9"
  }
 },
 "nbformat": 4,
 "nbformat_minor": 5
}
